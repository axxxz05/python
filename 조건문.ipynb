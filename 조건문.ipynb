{
  "nbformat": 4,
  "nbformat_minor": 0,
  "metadata": {
    "colab": {
      "name": "Untitled0.ipynb",
      "provenance": [],
      "collapsed_sections": [],
      "authorship_tag": "ABX9TyOZBMoYVhUPf3gvBYpG3dtF",
      "include_colab_link": true
    },
    "kernelspec": {
      "name": "python3",
      "display_name": "Python 3"
    },
    "language_info": {
      "name": "python"
    }
  },
  "cells": [
    {
      "cell_type": "markdown",
      "metadata": {
        "id": "view-in-github",
        "colab_type": "text"
      },
      "source": [
        "<a href=\"https://colab.research.google.com/github/axxxz05/python/blob/main/%EC%A1%B0%EA%B1%B4%EB%AC%B8.ipynb\" target=\"_parent\"><img src=\"https://colab.research.google.com/assets/colab-badge.svg\" alt=\"Open In Colab\"/></a>"
      ]
    },
    {
      "cell_type": "markdown",
      "metadata": {
        "id": "4TGvjAuZefkB"
      },
      "source": [
        "## 학습 목표\n",
        "- 조건문의 이해와 활용\n",
        "\n",
        "### 조건문(if)\n",
        " - 특정 조건을 만족하는 경우에 수행할 작업을 만들 때 사용\n",
        " - 참, 거짓으로 표현된다.\n",
        " - if, elif, else 키워드 사용\n",
        " - 조건문의 경우, 들여쓰기로 하나의 블록을 만들고, 여러 종속된 코드를 사용해 중첩 코드가 가능\n",
        " - `블록(block)`: 들여쓰기 된 코드\n",
        " - 모든 블록의 시작과 마지막에는 :(콜론:colon)이 필요"
      ]
    },
    {
      "cell_type": "code",
      "metadata": {
        "colab": {
          "base_uri": "https://localhost:8080/"
        },
        "id": "CA6nlxOGeqoz",
        "outputId": "d164e6b7-531b-4092-af47-42f339184471"
      },
      "source": [
        "if 20  > 10 : #거짓\n",
        "  print(\"참입니다\")\n",
        "else :\n",
        "  print(\"거짓입니다\")"
      ],
      "execution_count": 10,
      "outputs": [
        {
          "output_type": "stream",
          "name": "stdout",
          "text": [
            "참입니다\n"
          ]
        }
      ]
    },
    {
      "cell_type": "markdown",
      "metadata": {
        "id": "7cZckX78gIMH"
      },
      "source": [
        "### if, else\n",
        " - if가 아닌 경우, 나머지 조건을 표현하고 싶을 때\n",
        " - if 조건이 참(true)이면, if 블록안의 코드가 수행\n",
        "  - 거짓(fales)인 경우, else 블록 안의 코드가 수행\n",
        "- `주위!` if와 else 사이에는 다른 코드가 삽입 불가"
      ]
    },
    {
      "cell_type": "code",
      "metadata": {
        "colab": {
          "base_uri": "https://localhost:8080/"
        },
        "id": "FkQcC8swhps9",
        "outputId": "8affe414-7178-4256-ca0a-83dc28478cc5"
      },
      "source": [
        "# 어떤 수에 대해 짝수인 경우 \"짝수!\"를 출력, 홀수인 경우 \"홀수!\"를 출력.\n",
        "# 홀수인 경우 \"홀수!\"를 출력하는 프로그램 작성하시오.\n",
        "\n",
        "a = 100\n",
        "\n",
        "if a % 2 == 0 : #나머지가 0인 경우\n",
        "  print(\"짝수!\")\n",
        "else :\n",
        "  print(\"홀수!\")"
      ],
      "execution_count": 14,
      "outputs": [
        {
          "output_type": "stream",
          "name": "stdout",
          "text": [
            "짝수!\n"
          ]
        }
      ]
    },
    {
      "cell_type": "markdown",
      "metadata": {
        "id": "SOxMLvDrnhlH"
      },
      "source": [
        "## if, elif, else\n",
        "\n",
        " - 조건이 여러개인 경우, 해당 조건을 elif 블록에서 명시\n",
        " - 각 조건을 확인 후, true 조건의 코드 블락을 실행을 한 후에 전체 구문을 종료\n"
      ]
    },
    {
      "cell_type": "code",
      "metadata": {
        "colab": {
          "base_uri": "https://localhost:8080/"
        },
        "id": "5vNIKwcpn62F",
        "outputId": "92b4c11c-0b5e-4f06-9d46-11b5ae7975d7"
      },
      "source": [
        "# 어떤 점수에 대해 90점 이상이면 A, 80점 이상이면 B, 70점 이상이면 C, 60점 이상이면 D, 나머지 F인 프로그램을 작성하시오.\n",
        "# 단, 100점인 경우, 성적은 A이며, 동시에 선물을 증정하도록 하시오.\n",
        "\n",
        "score = 95\n",
        "\n",
        "if score >= 90 :\n",
        "  print(\"성적: A\")\n",
        "  if score == 100 :\n",
        "      print(\"선물 증정\")\n",
        "\n",
        "elif score >= 80 :\n",
        "  print(\"성적: B\")\n",
        "elif score >= 70 :\n",
        "  print(\"성적: C\")\n",
        "elif score >= 60 :\n",
        "  print(\"성적: D\")\n",
        "else :\n",
        "  print(\"성적: F\")\n",
        "\n",
        "print(\"수고하셨습니다.\")"
      ],
      "execution_count": 25,
      "outputs": [
        {
          "output_type": "stream",
          "name": "stdout",
          "text": [
            "성적: A\n",
            "수고하셨습니다.\n"
          ]
        }
      ]
    }
  ]
}